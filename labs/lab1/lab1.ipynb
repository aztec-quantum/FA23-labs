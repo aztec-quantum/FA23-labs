{
 "cells": [
  {
   "cell_type": "code",
   "execution_count": 1,
   "metadata": {},
   "outputs": [
    {
     "name": "stdout",
     "output_type": "stream",
     "text": [
      "Requirement already satisfied: import-ipynb in /opt/homebrew/lib/python3.11/site-packages (0.1.4)\n",
      "Requirement already satisfied: IPython in /opt/homebrew/lib/python3.11/site-packages (from import-ipynb) (8.14.0)\n",
      "Requirement already satisfied: nbformat in /opt/homebrew/lib/python3.11/site-packages (from import-ipynb) (5.9.0)\n",
      "Requirement already satisfied: backcall in /opt/homebrew/lib/python3.11/site-packages (from IPython->import-ipynb) (0.2.0)\n",
      "Requirement already satisfied: decorator in /opt/homebrew/lib/python3.11/site-packages (from IPython->import-ipynb) (5.1.1)\n",
      "Requirement already satisfied: jedi>=0.16 in /opt/homebrew/lib/python3.11/site-packages (from IPython->import-ipynb) (0.18.2)\n",
      "Requirement already satisfied: matplotlib-inline in /opt/homebrew/lib/python3.11/site-packages (from IPython->import-ipynb) (0.1.6)\n",
      "Requirement already satisfied: pickleshare in /opt/homebrew/lib/python3.11/site-packages (from IPython->import-ipynb) (0.7.5)\n",
      "Requirement already satisfied: prompt-toolkit!=3.0.37,<3.1.0,>=3.0.30 in /opt/homebrew/lib/python3.11/site-packages (from IPython->import-ipynb) (3.0.38)\n",
      "Requirement already satisfied: pygments>=2.4.0 in /opt/homebrew/lib/python3.11/site-packages (from IPython->import-ipynb) (2.15.1)\n",
      "Requirement already satisfied: stack-data in /opt/homebrew/lib/python3.11/site-packages (from IPython->import-ipynb) (0.6.2)\n",
      "Requirement already satisfied: traitlets>=5 in /opt/homebrew/lib/python3.11/site-packages (from IPython->import-ipynb) (5.9.0)\n",
      "Requirement already satisfied: pexpect>4.3 in /opt/homebrew/lib/python3.11/site-packages (from IPython->import-ipynb) (4.8.0)\n",
      "Requirement already satisfied: appnope in /opt/homebrew/lib/python3.11/site-packages (from IPython->import-ipynb) (0.1.3)\n",
      "Requirement already satisfied: fastjsonschema in /opt/homebrew/lib/python3.11/site-packages (from nbformat->import-ipynb) (2.17.1)\n",
      "Requirement already satisfied: jsonschema>=2.6 in /opt/homebrew/lib/python3.11/site-packages (from nbformat->import-ipynb) (4.17.3)\n",
      "Requirement already satisfied: jupyter-core in /opt/homebrew/lib/python3.11/site-packages (from nbformat->import-ipynb) (5.3.0)\n",
      "Requirement already satisfied: parso<0.9.0,>=0.8.0 in /opt/homebrew/lib/python3.11/site-packages (from jedi>=0.16->IPython->import-ipynb) (0.8.3)\n",
      "Requirement already satisfied: attrs>=17.4.0 in /opt/homebrew/lib/python3.11/site-packages (from jsonschema>=2.6->nbformat->import-ipynb) (23.1.0)\n",
      "Requirement already satisfied: pyrsistent!=0.17.0,!=0.17.1,!=0.17.2,>=0.14.0 in /opt/homebrew/lib/python3.11/site-packages (from jsonschema>=2.6->nbformat->import-ipynb) (0.19.3)\n",
      "Requirement already satisfied: ptyprocess>=0.5 in /opt/homebrew/lib/python3.11/site-packages (from pexpect>4.3->IPython->import-ipynb) (0.7.0)\n",
      "Requirement already satisfied: wcwidth in /opt/homebrew/lib/python3.11/site-packages (from prompt-toolkit!=3.0.37,<3.1.0,>=3.0.30->IPython->import-ipynb) (0.2.6)\n",
      "Requirement already satisfied: platformdirs>=2.5 in /opt/homebrew/lib/python3.11/site-packages (from jupyter-core->nbformat->import-ipynb) (3.5.1)\n",
      "Requirement already satisfied: executing>=1.2.0 in /opt/homebrew/lib/python3.11/site-packages (from stack-data->IPython->import-ipynb) (1.2.0)\n",
      "Requirement already satisfied: asttokens>=2.1.0 in /opt/homebrew/lib/python3.11/site-packages (from stack-data->IPython->import-ipynb) (2.2.1)\n",
      "Requirement already satisfied: pure-eval in /opt/homebrew/lib/python3.11/site-packages (from stack-data->IPython->import-ipynb) (0.2.2)\n",
      "Requirement already satisfied: six in /opt/homebrew/lib/python3.11/site-packages (from asttokens>=2.1.0->stack-data->IPython->import-ipynb) (1.16.0)\n",
      "\n",
      "\u001b[1m[\u001b[0m\u001b[34;49mnotice\u001b[0m\u001b[1;39;49m]\u001b[0m\u001b[39;49m A new release of pip is available: \u001b[0m\u001b[31;49m23.2\u001b[0m\u001b[39;49m -> \u001b[0m\u001b[32;49m23.2.1\u001b[0m\n",
      "\u001b[1m[\u001b[0m\u001b[34;49mnotice\u001b[0m\u001b[1;39;49m]\u001b[0m\u001b[39;49m To update, run: \u001b[0m\u001b[32;49mpython3.11 -m pip install --upgrade pip\u001b[0m\n",
      "Note: you may need to restart the kernel to use updated packages.\n",
      "Requirement already satisfied: qiskit in /opt/homebrew/lib/python3.11/site-packages (0.43.2)\n",
      "Requirement already satisfied: qiskit-terra==0.24.1 in /opt/homebrew/lib/python3.11/site-packages (from qiskit) (0.24.1)\n",
      "Requirement already satisfied: qiskit-aer==0.12.1 in /opt/homebrew/lib/python3.11/site-packages (from qiskit) (0.12.1)\n",
      "Requirement already satisfied: qiskit-ibmq-provider==0.20.2 in /opt/homebrew/lib/python3.11/site-packages (from qiskit) (0.20.2)\n",
      "Requirement already satisfied: numpy>=1.16.3 in /opt/homebrew/lib/python3.11/site-packages (from qiskit-aer==0.12.1->qiskit) (1.23.5)\n",
      "Requirement already satisfied: scipy>=1.0 in /opt/homebrew/lib/python3.11/site-packages (from qiskit-aer==0.12.1->qiskit) (1.10.1)\n",
      "Requirement already satisfied: requests>=2.19 in /opt/homebrew/lib/python3.11/site-packages (from qiskit-ibmq-provider==0.20.2->qiskit) (2.31.0)\n",
      "Requirement already satisfied: requests-ntlm<=1.1.0 in /opt/homebrew/lib/python3.11/site-packages (from qiskit-ibmq-provider==0.20.2->qiskit) (1.1.0)\n",
      "Requirement already satisfied: urllib3>=1.21.1 in /opt/homebrew/lib/python3.11/site-packages (from qiskit-ibmq-provider==0.20.2->qiskit) (2.0.3)\n",
      "Requirement already satisfied: python-dateutil>=2.8.0 in /opt/homebrew/lib/python3.11/site-packages (from qiskit-ibmq-provider==0.20.2->qiskit) (2.8.2)\n",
      "Requirement already satisfied: websocket-client>=1.5.1 in /opt/homebrew/lib/python3.11/site-packages (from qiskit-ibmq-provider==0.20.2->qiskit) (1.5.2)\n",
      "Requirement already satisfied: websockets>=10.0 in /opt/homebrew/lib/python3.11/site-packages (from qiskit-ibmq-provider==0.20.2->qiskit) (11.0.3)\n",
      "Requirement already satisfied: rustworkx>=0.12.0 in /opt/homebrew/lib/python3.11/site-packages (from qiskit-terra==0.24.1->qiskit) (0.13.0)\n",
      "Requirement already satisfied: ply>=3.10 in /opt/homebrew/lib/python3.11/site-packages (from qiskit-terra==0.24.1->qiskit) (3.11)\n",
      "Requirement already satisfied: psutil>=5 in /opt/homebrew/lib/python3.11/site-packages (from qiskit-terra==0.24.1->qiskit) (5.9.5)\n",
      "Requirement already satisfied: sympy>=1.3 in /opt/homebrew/lib/python3.11/site-packages (from qiskit-terra==0.24.1->qiskit) (1.12)\n",
      "Requirement already satisfied: dill>=0.3 in /opt/homebrew/lib/python3.11/site-packages (from qiskit-terra==0.24.1->qiskit) (0.3.6)\n",
      "Requirement already satisfied: stevedore>=3.0.0 in /opt/homebrew/lib/python3.11/site-packages (from qiskit-terra==0.24.1->qiskit) (5.1.0)\n",
      "Requirement already satisfied: symengine<0.10,>=0.9 in /opt/homebrew/lib/python3.11/site-packages (from qiskit-terra==0.24.1->qiskit) (0.9.2)\n",
      "Requirement already satisfied: six>=1.5 in /opt/homebrew/lib/python3.11/site-packages (from python-dateutil>=2.8.0->qiskit-ibmq-provider==0.20.2->qiskit) (1.16.0)\n",
      "Requirement already satisfied: charset-normalizer<4,>=2 in /opt/homebrew/lib/python3.11/site-packages (from requests>=2.19->qiskit-ibmq-provider==0.20.2->qiskit) (3.1.0)\n",
      "Requirement already satisfied: idna<4,>=2.5 in /opt/homebrew/lib/python3.11/site-packages (from requests>=2.19->qiskit-ibmq-provider==0.20.2->qiskit) (3.4)\n",
      "Requirement already satisfied: certifi>=2017.4.17 in /opt/homebrew/lib/python3.11/site-packages (from requests>=2.19->qiskit-ibmq-provider==0.20.2->qiskit) (2023.5.7)\n",
      "Requirement already satisfied: ntlm-auth>=1.0.2 in /opt/homebrew/lib/python3.11/site-packages (from requests-ntlm<=1.1.0->qiskit-ibmq-provider==0.20.2->qiskit) (1.5.0)\n",
      "Requirement already satisfied: cryptography>=1.3 in /opt/homebrew/lib/python3.11/site-packages (from requests-ntlm<=1.1.0->qiskit-ibmq-provider==0.20.2->qiskit) (41.0.1)\n",
      "Requirement already satisfied: pbr!=2.1.0,>=2.0.0 in /opt/homebrew/lib/python3.11/site-packages (from stevedore>=3.0.0->qiskit-terra==0.24.1->qiskit) (5.11.1)\n",
      "Requirement already satisfied: mpmath>=0.19 in /opt/homebrew/lib/python3.11/site-packages (from sympy>=1.3->qiskit-terra==0.24.1->qiskit) (1.3.0)\n",
      "Requirement already satisfied: cffi>=1.12 in /opt/homebrew/lib/python3.11/site-packages (from cryptography>=1.3->requests-ntlm<=1.1.0->qiskit-ibmq-provider==0.20.2->qiskit) (1.15.1)\n",
      "Requirement already satisfied: pycparser in /opt/homebrew/lib/python3.11/site-packages (from cffi>=1.12->cryptography>=1.3->requests-ntlm<=1.1.0->qiskit-ibmq-provider==0.20.2->qiskit) (2.21)\n",
      "\n",
      "\u001b[1m[\u001b[0m\u001b[34;49mnotice\u001b[0m\u001b[1;39;49m]\u001b[0m\u001b[39;49m A new release of pip is available: \u001b[0m\u001b[31;49m23.2\u001b[0m\u001b[39;49m -> \u001b[0m\u001b[32;49m23.2.1\u001b[0m\n",
      "\u001b[1m[\u001b[0m\u001b[34;49mnotice\u001b[0m\u001b[1;39;49m]\u001b[0m\u001b[39;49m To update, run: \u001b[0m\u001b[32;49mpython3.11 -m pip install --upgrade pip\u001b[0m\n",
      "Note: you may need to restart the kernel to use updated packages.\n"
     ]
    }
   ],
   "source": [
    "%pip install import-ipynb\n",
    "%pip install qiskit"
   ]
  },
  {
   "cell_type": "code",
   "execution_count": 2,
   "metadata": {},
   "outputs": [
    {
     "name": "stdout",
     "output_type": "stream",
     "text": [
      "importing Jupyter notebook from autograder.ipynb\n"
     ]
    }
   ],
   "source": [
    "import import_ipynb\n",
    "import autograder\n",
    "from qiskit import QuantumCircuit, QuantumRegister, Aer, execute\n",
    "from qiskit.visualization import plot_histogram"
   ]
  },
  {
   "cell_type": "markdown",
   "metadata": {},
   "source": [
    "---\n",
    "# Lab 1 - Hello Quantum World!\n",
    "### A Classical Introduction to the World of Quantum Computing\n",
    "---\n",
    "\n",
    "> In this hands-on experience, you will harness the power of quantum circuits to encode and decode a simple string. Taking your first steps into the fascinating world of quantum programming."
   ]
  },
  {
   "cell_type": "markdown",
   "metadata": {},
   "source": [
    "---\n",
    "### 1.0 - Getting Started\n",
    "---\n",
    "In order to simulate a \"Hello World!\" application on a quantum computer, you must first determine the number of qubits required to store the string.\n",
    "Since the basis states of a qubit are |0> and |1>, you will need the same number of qubits as bits to encode the data.\n",
    "- Note: Basis state are the two measurable states of a [qubit](https://qiskit.org/documentation/stubs/qiskit.circuit.Qubit.html#qubit) 0 or 1 (same as a classical bit)\n",
    "\n",
    "The first step is to create a function required_qubits. The function will return the number of qubits required to encode the parameter |string|."
   ]
  },
  {
   "cell_type": "code",
   "execution_count": 3,
   "metadata": {},
   "outputs": [],
   "source": [
    "def required_qubits(string):\n",
    "    #TODO determine the number of qubits needed to store string\n",
    "    return 0"
   ]
  },
  {
   "cell_type": "code",
   "execution_count": 4,
   "metadata": {},
   "outputs": [
    {
     "name": "stdout",
     "output_type": "stream",
     "text": [
      "Incorrect number of qubits. Consider how many bits are used to represent a character in UTF-8\n"
     ]
    }
   ],
   "source": [
    "autograder.test_0(required_qubits)"
   ]
  },
  {
   "cell_type": "markdown",
   "metadata": {},
   "source": [
    "---\n",
    "### 1.1 - Time to Create a Quantum Circuit\n",
    "---\n",
    "Once you have calculated the number of required qubits, the next step is to create a Quantum Circuit!\n",
    "> In quantum information theory, a [Quantum Circuit](https://qiskit.org/documentation/stubs/qiskit.circuit.QuantumCircuit.html#quantumcircuit) is a model for quantum computation, similar to classical circuits, in which a computation is a sequence of quantum gates, measurements, initializations of qubits to known values, and possibly other actions. \n",
    "\n",
    "You can create a Quantum Circuit on a classical computer. After circuit construction, you can classically simulate or run the circuit on a [QPU](https://blogs.nvidia.com/blog/2022/07/29/what-is-a-qpu/) (Quantum Processing Unit)."
   ]
  },
  {
   "cell_type": "code",
   "execution_count": null,
   "metadata": {},
   "outputs": [],
   "source": [
    "def create_qc(num_qubits):\n",
    "    #TODO create a quantum circuit with a QuantumRegister of size num_qubits\n",
    "    qc = None\n",
    "    return qc"
   ]
  },
  {
   "cell_type": "code",
   "execution_count": null,
   "metadata": {},
   "outputs": [],
   "source": [
    "autograder.test_1(create_qc)"
   ]
  },
  {
   "cell_type": "markdown",
   "metadata": {},
   "source": [
    "---\n",
    "### 1.2 - Encoding a String to Binary\n",
    "---\n",
    "You have created a Quantum Circuit with enough qubits to encode |string|. Quantum Computers can use binary (basis states). In order to correctly store a string, you must enode your string to binary. Then you can interate through the binary string to encode on a Quantum System."
   ]
  },
  {
   "cell_type": "code",
   "execution_count": null,
   "metadata": {},
   "outputs": [],
   "source": [
    "def string_to_bin(string):\n",
    "    #TODO convert a string to string of bits, hint use bytearray\n",
    "    bit_string = ''.join(format(i, '08b') for i in bytearray(string, encoding ='utf-8'))\n",
    "    return bit_string"
   ]
  },
  {
   "cell_type": "code",
   "execution_count": null,
   "metadata": {},
   "outputs": [],
   "source": [
    "autograder.test_2(string_to_bin)"
   ]
  },
  {
   "cell_type": "markdown",
   "metadata": {},
   "source": [
    "---\n",
    "#### A Quantum String\n",
    "---\n",
    " - Demonstrated in the code below:\n",
    "\n",
    "The default state of a qubit is the basis state |0>. In the below circuit q0 and q1 both have the value 0 (basis state |0>). Together they make the qubit string q1q0 -> 00. "
   ]
  },
  {
   "cell_type": "code",
   "execution_count": 3,
   "metadata": {},
   "outputs": [
    {
     "ename": "NameError",
     "evalue": "name 'create_qc' is not defined",
     "output_type": "error",
     "traceback": [
      "\u001b[0;31m---------------------------------------------------------------------------\u001b[0m",
      "\u001b[0;31mNameError\u001b[0m                                 Traceback (most recent call last)",
      "Cell \u001b[0;32mIn[3], line 1\u001b[0m\n\u001b[0;32m----> 1\u001b[0m qc \u001b[39m=\u001b[39m create_qc(\u001b[39m2\u001b[39m)\n\u001b[1;32m      2\u001b[0m qc\u001b[39m.\u001b[39mmeasure_all()\n\u001b[1;32m      4\u001b[0m sim \u001b[39m=\u001b[39m Aer\u001b[39m.\u001b[39mget_backend(\u001b[39m'\u001b[39m\u001b[39maer_simulator\u001b[39m\u001b[39m'\u001b[39m)\n",
      "\u001b[0;31mNameError\u001b[0m: name 'create_qc' is not defined"
     ]
    }
   ],
   "source": [
    "qc = QuantumCircuit(2)\n",
    "qc.measure_all()\n",
    "\n",
    "sim = Aer.get_backend('aer_simulator')\n",
    "shots = 2000\n",
    "count_qpe = execute(qc, sim, shots=shots).result().get_counts()\n",
    "plot_histogram(count_qpe, figsize=(9,5))"
   ]
  },
  {
   "cell_type": "code",
   "execution_count": null,
   "metadata": {},
   "outputs": [],
   "source": [
    "qubit_string = count_qpe.most_frequent()\n",
    "print(\"Extracted Qubit String: \",qubit_string)"
   ]
  },
  {
   "cell_type": "markdown",
   "metadata": {},
   "source": [
    "A single-qubit Pauli-X gate ([XGate](https://qiskit.org/documentation/stubs/qiskit.circuit.library.XGate.html)), is equivalent to a classical not gate. Applying an XGate to q1 will change the two qubit string's value -> 10."
   ]
  },
  {
   "cell_type": "code",
   "execution_count": null,
   "metadata": {},
   "outputs": [],
   "source": [
    "qc1 = create_qc(2)\n",
    "qc1.x(1)\n",
    "qc1.measure_all()\n",
    "\n",
    "sim = Aer.get_backend('aer_simulator')\n",
    "shots = 2000\n",
    "count_qpe1 = execute(qc1, sim, shots=shots).result().get_counts()\n",
    "plot_histogram(count_qpe1, figsize=(9,5))"
   ]
  },
  {
   "cell_type": "code",
   "execution_count": null,
   "metadata": {},
   "outputs": [],
   "source": [
    "qubit_string1 = count_qpe1.most_frequent()\n",
    "print(\"Extracted Qubit String: \",qubit_string1)"
   ]
  },
  {
   "cell_type": "markdown",
   "metadata": {},
   "source": [
    "---\n",
    "### 1.3 - Encoding and Decoding the String\n",
    "---\n",
    "The code segments above demonstrate encoding bit strings into a Quantum Circuit. The next task is to create a function quantum_string. quantum_string will have two parameters (bit_string the string of bits to encode) and (qc the quantum circuit to enode on). It is assumed that qc has enough qubits to store the bit string. Iterate through the bit string and use conditions to apply an XGate at the proper location(s). "
   ]
  },
  {
   "cell_type": "code",
   "execution_count": null,
   "metadata": {},
   "outputs": [],
   "source": [
    "#TODO create ghost functions for lab assignments. Create cells explaining what you are doing.\n",
    "\n",
    "def quantum_string(bit_string, qc):\n",
    "    qubit_location = 0 # index variable\n",
    "    #TODO for each bit in bit_string, change the state of the qubit to match the bit i.e, if bit == 0 |0> else |1> (qubit at index)\n",
    "    return qc"
   ]
  },
  {
   "cell_type": "code",
   "execution_count": null,
   "metadata": {},
   "outputs": [],
   "source": [
    "autograder.test_3(quantum_string)"
   ]
  },
  {
   "cell_type": "markdown",
   "metadata": {},
   "source": [
    "Now, qc has qubits encoded to represent a bit string. Write a function decode_string which will extract the string from the circuit qc (parameter).\n",
    "\n",
    "- Measure all the qubits using the [QuantumCircuit.measure_all()](https://qiskit.org/documentation/stubs/qiskit.circuit.QuantumCircuit.html#qiskit.circuit.QuantumCircuit.measure_all) method.\n",
    "- Simulate the circuit to get the circuit counts. Run the circut on aer_simulator 1000 times(shots). \n",
    "- Get the counts from the circuit simulation and store it in a variable. The most_frequent method can be used to extract the value as a bit string.\n",
    "- Varify the string is in the correct order (can be in reverse order). Return the string in the correct order.\n",
    "---\n",
    "**HINT:** once you have extracted a binary string, convert it to a regular string of characters using the provided bin_to_string function."
   ]
  },
  {
   "cell_type": "code",
   "execution_count": null,
   "metadata": {},
   "outputs": [],
   "source": [
    "def bin_to_string(string): \n",
    "    return \"\".join([chr(int(string[i:i+8],2)) for i in range(0,len(string),8)])"
   ]
  },
  {
   "cell_type": "code",
   "execution_count": null,
   "metadata": {},
   "outputs": [],
   "source": [
    "def decode_string(qc):\n",
    "    #TODO measure the qubits and extract the string. HINT: you can find the solution in the cells above\n",
    "    return bin_to_string(\"\")"
   ]
  },
  {
   "cell_type": "code",
   "execution_count": null,
   "metadata": {},
   "outputs": [],
   "source": [
    "autograder.test_4(decode_string)"
   ]
  },
  {
   "cell_type": "markdown",
   "metadata": {},
   "source": [
    "---\n",
    "### 1.4 - Hello Quantum World!\n",
    "---\n",
    "Now the moment you have been waiting for, Hello Quantum World! Use the function you created above to complete a \"Hello World!\" program on a Quantum Computer."
   ]
  },
  {
   "cell_type": "code",
   "execution_count": null,
   "metadata": {},
   "outputs": [],
   "source": [
    "msg = \"Hello Quantum World!\"\n",
    "#TODO your code goes here\n",
    "decoded_string = ''\n",
    "print(\"Original String: \",msg)\n",
    "print(\"Extracted String: \",decoded_string)"
   ]
  }
 ],
 "metadata": {
  "kernelspec": {
   "display_name": "Python 3 (ipykernel)",
   "language": "python",
   "name": "python3"
  },
  "language_info": {
   "codemirror_mode": {
    "name": "ipython",
    "version": 3
   },
   "file_extension": ".py",
   "mimetype": "text/x-python",
   "name": "python",
   "nbconvert_exporter": "python",
   "pygments_lexer": "ipython3",
   "version": "3.11.3"
  }
 },
 "nbformat": 4,
 "nbformat_minor": 2
}
