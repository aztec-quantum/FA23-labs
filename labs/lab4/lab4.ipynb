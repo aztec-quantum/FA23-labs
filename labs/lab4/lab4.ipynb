{
 "cells": [
  {
   "cell_type": "code",
   "execution_count": null,
   "metadata": {},
   "outputs": [],
   "source": [
    "from qiskit import QuantumCircuit, QuantumRegister, ClassicalRegister\n",
    "from qiskit.circuit import Parameter\n",
    "import numpy as np\n",
    "from qiskit.circuit.library import XGate,YGate, CXGate, RYGate, HGate\n",
    "from qiskit.visualization import array_to_latex, plot_bloch_multivector, visualize_transition, plot_histogram\n",
    "from qiskit.quantum_info import Statevector\n",
    "from qiskit.circuit import Parameter\n",
    "from qiskit_aer.primitives import Sampler\n",
    "from qiskit.result import marginal_counts"
   ]
  },
  {
   "cell_type": "markdown",
   "metadata": {},
   "source": [
    "[IBM Quantum Platform](https://www.google.com/url?sa=t&rct=j&q=&esrc=s&source=web&cd=&ved=2ahUKEwiwm8H8gcyBAxUOIUQIHezkACgQjBB6BAgMEAE&url=https%3A%2F%2Fquantum-computing.ibm.com%2Flogin&usg=AOvVaw1GwPlk_pqjt5PQJQ59hlEB&opi=89978449)\n",
    "\n",
    "[2023 Qiskit Global Summer School](https://www.youtube.com/playlist?list=PLOFEBzvs-VvqoeIypXYLLf0PY-WOQMLR3)"
   ]
  },
  {
   "cell_type": "markdown",
   "metadata": {},
   "source": [
    "### Lab 2 & 3 Review\n",
    "---\n",
    "- Q1: What are the two basis states of a Qubit? What is the default basis state of a Qubit?\n",
    "\n",
    "- Q2: Are Standard Gates reversible?\n",
    "\n",
    "- Q3: What is a XGate? -- What is it's axis of rotation? How much does it rotate by?\n",
    "- Q4: What is a YGate? -- What is it's axis of rotation? How much does it rotate by?\n",
    "- Q5: What is a ZGate? -- What is it's axis of rotation? How much does it rotate by?\n",
    "\n",
    "- Q6: If you needed to rotate with respect to the X-axis some arbitrary amount, which standard gate would you use?\n",
    "- Q7: If you needed to rotate with respect to the Y-axis some arbitrary amount, which standard gate would you use?\n",
    "- Q8: If you needed to rotate with respect to the Z-axis some arbitrary amount, which standard gate would you use?\n",
    "\n",
    "- Q9: What are the purpose of Control Gates? The CXGate operates on how many Qubits?\n",
    "\n",
    "- Q10: Is the measure standard operation reversible? \n",
    "\n",
    "- Q11: How would you describe Quantum Entanglement?\n",
    "\n",
    "- Q12: What is Quantum Teleportation?"
   ]
  },
  {
   "cell_type": "code",
   "execution_count": null,
   "metadata": {},
   "outputs": [],
   "source": [
    "# Qubit zero in |0> state\n",
    "ketq0_0 = np.array([[1], [0]])\n",
    "\n",
    "# Qubit one in |1> state\n",
    "ketq1_1 = np.array([[0], [1]])\n",
    "\n",
    "array_to_latex(ketq0_0)"
   ]
  },
  {
   "cell_type": "code",
   "execution_count": null,
   "metadata": {},
   "outputs": [],
   "source": [
    "array_to_latex(ketq1_1)"
   ]
  },
  {
   "cell_type": "code",
   "execution_count": null,
   "metadata": {},
   "outputs": [],
   "source": [
    "\n",
    "state_init = Statevector(ketq0_0)\n",
    "plot_bloch_multivector(state_init)"
   ]
  },
  {
   "cell_type": "code",
   "execution_count": null,
   "metadata": {},
   "outputs": [],
   "source": [
    "#Combine the two qubits into single matrix\n",
    "ket0 = np.kron(ketq0_0, ketq1_1)\n",
    "array_to_latex(ket0)\n"
   ]
  },
  {
   "cell_type": "markdown",
   "metadata": {},
   "source": [
    "Qiskit's [`Statevector`](https://qiskit.org/documentation/stubs/qiskit.quantum_info.Statevector.html) class can take different forms of input (e.g. python list, numpy array, another state vector) to construct a state vector.\n",
    "\n",
    "Let's take the `ket0` object we created earlier and convert it to a `Statevector` object:"
   ]
  },
  {
   "cell_type": "code",
   "execution_count": null,
   "metadata": {},
   "outputs": [],
   "source": [
    "# Visualize the multivector, notice the order f the qubits. A single matrix can be used to represent multiple qubits\n",
    "state_0 = Statevector(ket0)\n",
    "plot_bloch_multivector(state_0)"
   ]
  },
  {
   "cell_type": "code",
   "execution_count": null,
   "metadata": {},
   "outputs": [],
   "source": [
    "#Acquire CXGate as a matrix\n",
    "cx = CXGate().to_matrix()\n",
    "array_to_latex(cx)"
   ]
  },
  {
   "cell_type": "code",
   "execution_count": null,
   "metadata": {},
   "outputs": [],
   "source": [
    "#Multiply ket0 multivector and CXGate matrix in order to apply CXGate to the multivector\n",
    "ket1 = cx @ ket0\n",
    "array_to_latex(ket1)"
   ]
  },
  {
   "cell_type": "code",
   "execution_count": null,
   "metadata": {},
   "outputs": [],
   "source": [
    "#Convert the product to a Statevector and visualize the transformation\n",
    "state_1 = Statevector(ket1)\n",
    "plot_bloch_multivector(state_1)"
   ]
  },
  {
   "cell_type": "code",
   "execution_count": null,
   "metadata": {},
   "outputs": [],
   "source": [
    "#Store XGate object\n",
    "x = XGate()\n",
    "#Convert XGate object to matrix\n",
    "x_matrix = x.to_matrix()\n",
    "#Visualize the matrix\n",
    "array_to_latex(x_matrix)"
   ]
  },
  {
   "cell_type": "code",
   "execution_count": null,
   "metadata": {},
   "outputs": [],
   "source": [
    "#Multiply the XGate matrix and ket0 multivector in order to apply XGate to the multivector\n",
    "ket0 = [[1],[0]]\n",
    "matrix_ex = x_matrix @ ket0\n",
    "state_0_X = Statevector(matrix_ex)\n",
    "plot_bloch_multivector(state_0_X, title=\"X|0>\")"
   ]
  },
  {
   "cell_type": "code",
   "execution_count": null,
   "metadata": {},
   "outputs": [],
   "source": [
    "array_to_latex(matrix_ex)"
   ]
  },
  {
   "cell_type": "code",
   "execution_count": null,
   "metadata": {},
   "outputs": [],
   "source": [
    "qc = QuantumCircuit(1)\n",
    "qc.x(0)\n",
    "qc.h(0)\n",
    "qc.y(0)\n",
    "qc.ry(-np.pi/2,0)\n",
    "\n",
    "visualize_transition(qc, trace=True, fpg=30)"
   ]
  },
  {
   "cell_type": "markdown",
   "metadata": {},
   "source": [
    "- Compare the final state of the code cell above with the code cell below. We were able to correctly calculate the final state of qc using matrix representation and multiplication."
   ]
  },
  {
   "cell_type": "code",
   "execution_count": null,
   "metadata": {},
   "outputs": [],
   "source": [
    "# Initialize the qubit |0>\n",
    "qc = [[1],[0]]\n",
    "# Apply XGate to the qubit (matrix multiplication)\n",
    "qc = x_matrix @ qc\n",
    "# Get YGate matrix\n",
    "y_matrix = YGate().to_matrix()\n",
    "# Apply YGate to the qubit (matrix multiplication)\n",
    "qc = y_matrix @ qc\n",
    "# Get HGate matrix\n",
    "h_matrix = HGate().to_matrix()\n",
    "# Apply HGate to the qubit (matrix multiplication)\n",
    "qc = h_matrix @ qc\n",
    "# Get RYGate matrix (with same theta as code cell above)\n",
    "ry = RYGate(theta=(-np.pi/2)).to_matrix()\n",
    "# Apply RYGate to the qubit (matrix multiplication)\n",
    "qc = ry @ qc\n",
    "# Visualize the Statevector\n",
    "state = Statevector(qc)\n",
    "plot_bloch_multivector(state, title=\"X|0>\")"
   ]
  },
  {
   "cell_type": "markdown",
   "metadata": {},
   "source": [
    "### Problem 1\n",
    "---\n",
    "In the code cell below, apply a standard operation to reverse the hadamard gate applied to qubit0. Reversing a standard gate returns the qubit to it's initial state (prior to the operation your reversing). In this instance qubit0 should be |0> basis state."
   ]
  },
  {
   "cell_type": "code",
   "execution_count": null,
   "metadata": {},
   "outputs": [],
   "source": [
    "qc = QuantumCircuit(1)\n",
    "qc.h(0)\n",
    "# YOUR CODE GOES HERE\n",
    "\n",
    "# YOUR CODE ENDS HERE\n",
    "visualize_transition(qc, fpg=30, trace=True)"
   ]
  },
  {
   "cell_type": "markdown",
   "metadata": {},
   "source": [
    "### Understanding Hadamard Rotation\n",
    "---\n",
    "Run the visualization in the code block below. Notice that the hadamard gates don't cause any rotation? This is because the current state lies on the    X+Z axis. As stated in prior labs, you cannot rotate with respect to an axis that your state lies on.\n"
   ]
  },
  {
   "cell_type": "code",
   "execution_count": null,
   "metadata": {},
   "outputs": [],
   "source": [
    "qc = QuantumCircuit(1)\n",
    "qc.z(0)\n",
    "qc.ry(np.pi/4,0)\n",
    "qc.h(0)\n",
    "qc.y(0)\n",
    "qc.h(0)\n",
    "visualize_transition(qc, fpg=30, trace=True)"
   ]
  },
  {
   "cell_type": "markdown",
   "metadata": {},
   "source": [
    "### Problem 2\n",
    "---\n",
    "Apply a standard gate to return the qubit to reverse the last standard gate. There are multiple solutions, however the correct solution will only increase the circuit depth by 1. "
   ]
  },
  {
   "cell_type": "code",
   "execution_count": null,
   "metadata": {},
   "outputs": [],
   "source": [
    "qc = QuantumCircuit(1)\n",
    "qc.x(0)\n",
    "qc.h(0)\n",
    "qc.ry(-np.pi/2,0)\n",
    "#YOUR CODE GOES HERE\n",
    "\n",
    "#YOUR CODE ENDS HERE\n",
    "visualize_transition(qc, fpg=30, trace=True)"
   ]
  },
  {
   "cell_type": "code",
   "execution_count": null,
   "metadata": {},
   "outputs": [],
   "source": [
    "qc = QuantumCircuit(1)\n",
    "qc.x(0)\n",
    "qc.ry(np.pi/2, 0)\n",
    "qc.rz(-np.pi/2, 0)\n",
    "qc.rx(np.pi/2,0)\n",
    "visualize_transition(qc, trace=True, fpg=30)"
   ]
  },
  {
   "cell_type": "markdown",
   "metadata": {},
   "source": [
    "### Problem 3 - Quantum Teleportation\n",
    "---\n",
    "- Due top the No Cloning Theorem, Quantum Information cannot be copied.\n",
    "- Is there a way go transmit qubits from one point to another without destroying superposition and phase information?\n",
    "Yes, Quantum Telportation provides the ability for the original state to be reconstructed! This transportation can be done over vast distance, Chinese scientists were able to teleport a Quantum State from Tibet to a satellite in orbit. As you will see below, teleportation is reliant on Classical Computers. In other words Quantum Teleportation can happen as fast as the speed of light.\n",
    "---\n",
    "\n",
    "- Alice has a qubit in some state **|T>**, she want's to share that state with Bob who is at a different location. \n",
    "- In order to do this Alice & Bob must share a set of two entangled qubits. Both Alice & Bob will have one qubit of the entangled pair.\n",
    "- So Alice has two qubits, the qubit that she wants to teleport and one of the entangled qubits. While Bob only has a single qubit of the entangled pair.\n",
    "- Alice can apply operations to her entangled qubit that can be reversed and measured. These reversible operations allow Bob to measure the quantum state **|T>**.\n",
    "\n",
    "--- \n",
    "This problem has multiple parts. In order to correctly complete this algorithm, you must complete all sections properly. Working in small groups is highly encouraged!!\n",
    "\n",
    "\n",
    "#### Requirements of Quantum Teleportation:\n",
    "- Entangled qubit pair.\n",
    "- A message qubit to be sent.\n",
    "- Classical communication line between both parties for transmission of classical bits.\n",
    " \n"
   ]
  },
  {
   "cell_type": "markdown",
   "metadata": {},
   "source": [
    "#### Step 1 - Create your message qubit\n",
    "---\n",
    "- Apply an RYGate to the quantum circuit. The phase angle will be phase_angle parameterized with 'T'."
   ]
  },
  {
   "cell_type": "code",
   "execution_count": null,
   "metadata": {},
   "outputs": [],
   "source": [
    "q = QuantumCircuit(QuantumRegister(1,\"Control\"))\n",
    "phase_angle = Parameter('T')\n",
    "#TODO YOUR CODE GOES HERE\n",
    "q.ry(phase_angle,0)\n",
    "#YOUR CODE ENDS HERE\n",
    "q.draw(output=\"mpl\")"
   ]
  },
  {
   "cell_type": "markdown",
   "metadata": {},
   "source": [
    "#### Step 2 - Create an Entangled Pair\n",
    "---\n",
    "- Use the code cell below to draw the circuit. As you can see the circuit has two Quantum Registers (Control and Bell). As well as two Classical Registers (Alice and Bob).\n"
   ]
  },
  {
   "cell_type": "code",
   "execution_count": null,
   "metadata": {},
   "outputs": [],
   "source": [
    "#Copy the initial circuit\n",
    "qc = q.copy()\n",
    "\n",
    "#Attach registers necessary for teleportation\n",
    "bell = QuantumRegister(2, 'Bell')\n",
    "alice = ClassicalRegister(2, 'Alice')\n",
    "bob = ClassicalRegister(1, 'Bob')\n",
    "\n",
    "qc.add_register(bell, alice, bob)\n",
    "\n",
    "qc.barrier()\n",
    "\n",
    "qc.draw(output=\"mpl\")\n"
   ]
  },
  {
   "cell_type": "markdown",
   "metadata": {},
   "source": [
    "- Use apply Hadamard to the first qubit in the Bell register (register for the entangled qubits).\n",
    "- Then apply a ControlX (CXGate) on the qubits in the Bell register. Bell0 will be the control qubit and Bell1 the target qubit.\n",
    "\n",
    "--- \n",
    "- Once Alice's operations are completed, use the power of Dynamic Circuits to reverse her operations and retrieve the transported state **|T>**"
   ]
  },
  {
   "cell_type": "code",
   "execution_count": null,
   "metadata": {},
   "outputs": [],
   "source": [
    "#TODO YOUR CODE GOES HERE\n",
    "#Create Bell state (Entagle qubits bell[0] and bell[1])\n",
    "\n",
    "\n",
    "#YOUR CODE ENDS HERE\n",
    "\n",
    "qc.barrier()\n",
    "\n",
    "#Alice applies operations to her qubit's\n",
    "qc.cx(0,1)\n",
    "qc.h(0)\n",
    "\n",
    "qc.barrier()\n",
    "\n",
    "#Alice measures her qubits, to send the results to her classical register\n",
    "qc.measure(0,alice[0])\n",
    "qc.measure(bell[0],alice[1])\n",
    "\n",
    "# This is an example of dynamic circuits\n",
    "# We can create a circuit that only applies an operation if a certain state is measured\n",
    "with qc.if_test((alice[1],1)):\n",
    "    #TODO YOUR CODE GOES HERE\n",
    "    #If Alice1 == 1 apply XGate to Bob's qubit(Bell1)\n",
    "\n",
    "    #YOUR CODE ENDS HERE\n",
    "    with qc.if_test((alice[0],1)):\n",
    "        #If Alice0 == 1 apply ZGate to Bob's qubit(Bell1)\n",
    "        qc.z(bell[1])\n",
    "\n",
    "\n",
    "qc.barrier()\n",
    "\n",
    "#finally we can measure Bob's qubit to recover the state\n",
    "qc.measure(bell[1], bob)\n",
    "qc.draw(output=\"mpl\")"
   ]
  },
  {
   "cell_type": "code",
   "execution_count": null,
   "metadata": {},
   "outputs": [],
   "source": [
    "#The initial circuit with only an angle parameter\n",
    "q.measure_all()"
   ]
  },
  {
   "cell_type": "code",
   "execution_count": null,
   "metadata": {},
   "outputs": [],
   "source": [
    "#The angle we want to test, we will bind this parameter to give our T state an actual value\n",
    "angle = 2*np.pi/7\n",
    "\n",
    "#Sample is necessary because we are using Dynamic Circuits which do not work with simulator\n",
    "sampler = Sampler()\n",
    "\n",
    "#Run the circuit with the angle parameter\n",
    "before_tele = sampler.run(q.assign_parameters({phase_angle: angle}))\n",
    "before = before_tele.result().quasi_dists[0].binary_probabilities()\n",
    "plot_histogram(before)"
   ]
  },
  {
   "cell_type": "code",
   "execution_count": null,
   "metadata": {},
   "outputs": [],
   "source": [
    "#Run the teleportation circuit with binded parameter \n",
    "after_tele = sampler.run(qc.bind_parameters({phase_angle: angle}))\n",
    "\n",
    "after = after_tele.result()\n",
    "probs = after.quasi_dists[0].binary_probabilities()\n",
    "\n",
    "print(\"Original probabilities: \",before)\n",
    "print(\"Teleported probabilities: \",probs)\n"
   ]
  },
  {
   "cell_type": "markdown",
   "metadata": {},
   "source": [
    "Notice that binary probabilities are different between the circuits? The original circuit only contains a single classical register while the teleportation circuit contains three. However, Bob is only interested in his Classical Register `Bob`(Third ClassicalRegister, index 2). Qiskit's [marginal_counts](https://qiskit.org/documentation/apidoc/result.html#qiskit.result.marginal_counts) method provides a mean of combining probabilities of a certain index."
   ]
  },
  {
   "cell_type": "code",
   "execution_count": null,
   "metadata": {},
   "outputs": [],
   "source": [
    "teleported_counts = marginal_counts(after.quasi_dists[0].binary_probabilities(), indices=[2],inplace=True)\n"
   ]
  },
  {
   "cell_type": "code",
   "execution_count": null,
   "metadata": {},
   "outputs": [],
   "source": [
    "legend = ['Before Teleportation', 'After Teleportation']\n",
    "plot_histogram([before_tele.result().quasi_dists[0].binary_probabilities(),teleported_counts],legend=legend)"
   ]
  }
 ],
 "metadata": {
  "kernelspec": {
   "display_name": "Python 3",
   "language": "python",
   "name": "python3"
  },
  "language_info": {
   "codemirror_mode": {
    "name": "ipython",
    "version": 3
   },
   "file_extension": ".py",
   "mimetype": "text/x-python",
   "name": "python",
   "nbconvert_exporter": "python",
   "pygments_lexer": "ipython3",
   "version": "3.11.5"
  },
  "orig_nbformat": 4
 },
 "nbformat": 4,
 "nbformat_minor": 2
}
